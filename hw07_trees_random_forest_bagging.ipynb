{
 "cells": [
  {
   "cell_type": "markdown",
   "metadata": {},
   "source": [
    "# Домашнее задание №7: деревья, случайный лес \n",
    "\n",
    "## Часть 1: основы построения решающие дерева\n",
    "\n"
   ]
  },
  {
   "cell_type": "markdown",
   "metadata": {},
   "source": [
    "### Задание 1.1 (1 балл)\n",
    "Пусть известно, что в вершину решающего дерева попали 10 объектов, 8 из которых имеют метку класса $k_1$, а 2 - $k_2$. Посчитайте энтропию (с натуральным логарифмом). Ответ округлите до двух знаков после запятой."
   ]
  },
  {
   "cell_type": "markdown",
   "metadata": {},
   "source": [
    "$H(p_1,...,p_{10}) = -\\sum_{i=1}^{10}p_i \\ln{p_i} = 0.5$"
   ]
  },
  {
   "cell_type": "code",
   "execution_count": 276,
   "metadata": {},
   "outputs": [
    {
     "data": {
      "text/plain": [
       "0.5"
      ]
     },
     "execution_count": 276,
     "metadata": {},
     "output_type": "execute_result"
    }
   ],
   "source": [
    "np.round(- 0.8*np.log(0.8) - 0.2*np.log(0.2), 2)"
   ]
  },
  {
   "cell_type": "markdown",
   "metadata": {},
   "source": [
    "#### (*・‿・)ノ⌒*:･ﾟ✧  0.5"
   ]
  },
  {
   "cell_type": "markdown",
   "metadata": {},
   "source": [
    "### Задание 1.2 (1 балл)\n",
    "Пусть дополнительно известно, что вершина из предыдущего задания не является листовой и возможно такое разбиение, что в левое поддерево попадут все объекты класса $k_1$, а в правое - класса $k_2$. Посчитайте критерий информативности (в формулировке разности impurity пришедшей выборки и полученного разбиения) такой вершины с применением индекса Джини. Ответ округлите до двух знаков после запятой."
   ]
  },
  {
   "cell_type": "markdown",
   "metadata": {},
   "source": [
    "$Q_G(R_m, j, s) = F_G(R_m) - \\frac{N_l}{N_m}F_G(R_l) - \\frac{N_r}{N_m}F_G(R_r)$"
   ]
  },
  {
   "cell_type": "markdown",
   "metadata": {},
   "source": [
    "$F_G(R_m) = \\sum_{k} p_k(1-p_k)$"
   ]
  },
  {
   "cell_type": "markdown",
   "metadata": {},
   "source": [
    "У нас идеально разбилась вершина, в правом и левом листе разделились 2 класса, а значит для индекса Джини мы получим нулевое значение. Тогда посчитаем индекс Джини для исходной вершины, и получим, что он равняется $ 0.8 \\cdot 0.2 +  0.2 \\cdot 0.8 - 0 \\cdot 1 - 1 \\cdot 0 $"
   ]
  },
  {
   "cell_type": "markdown",
   "metadata": {},
   "source": [
    "#### (￣▽￣)/♫•*¨*•.¸¸♪  0.32"
   ]
  },
  {
   "cell_type": "markdown",
   "metadata": {},
   "source": [
    "### Задание 1.3 (0.5 балла)\n",
    "Пусть при построении дерева образовалась листовая вершина с 10 объектами, значения целевой переменной для которых следующие: [1, 10, 5, 18, 100, 30, 50, 61, 84, 47] (решается задача регрессии). Чему будут равны предсказания модели для этих объектов?"
   ]
  },
  {
   "cell_type": "markdown",
   "metadata": {},
   "source": [
    "Будем считать среднее в этом листе, для того чтобы найти предсказание модели"
   ]
  },
  {
   "cell_type": "code",
   "execution_count": 10,
   "metadata": {},
   "outputs": [
    {
     "name": "stdout",
     "output_type": "stream",
     "text": [
      "40.6\n"
     ]
    }
   ],
   "source": [
    "a =  [1, 10, 5, 18, 100, 30, 50, 61, 84, 47]\n",
    "print(np.mean(a))"
   ]
  },
  {
   "cell_type": "markdown",
   "metadata": {},
   "source": [
    "#### ༼ つ ◕_◕ ༽つ  40.6"
   ]
  },
  {
   "cell_type": "markdown",
   "metadata": {},
   "source": [
    "## Часть 2: решающие деревья\n",
    "\n",
    "### Задание 2.1 (2 балла)\n",
    "Первым делом реализуйте функцию find_best_split, которая должна находить оптимальное разбиение подмножества обучающей выборки. При решении задачи регрессии испольуйте дисперсию подвыборки, при решении задачи классификации используйте критерий Джини. Эту функцию можно протестировать на датасете Boston из sklearn."
   ]
  },
  {
   "cell_type": "code",
   "execution_count": 186,
   "metadata": {},
   "outputs": [],
   "source": [
    "from collections import Counter\n",
    "from typing import Dict, List, Tuple, Union\n",
    "\n",
    "import matplotlib.pyplot as plt\n",
    "import numpy as np\n",
    "import pandas as pd\n",
    "import seaborn as sns\n",
    "from sklearn.datasets import load_boston"
   ]
  },
  {
   "cell_type": "code",
   "execution_count": 4,
   "metadata": {
    "scrolled": true
   },
   "outputs": [
    {
     "data": {
      "text/html": [
       "<div>\n",
       "<style scoped>\n",
       "    .dataframe tbody tr th:only-of-type {\n",
       "        vertical-align: middle;\n",
       "    }\n",
       "\n",
       "    .dataframe tbody tr th {\n",
       "        vertical-align: top;\n",
       "    }\n",
       "\n",
       "    .dataframe thead th {\n",
       "        text-align: right;\n",
       "    }\n",
       "</style>\n",
       "<table border=\"1\" class=\"dataframe\">\n",
       "  <thead>\n",
       "    <tr style=\"text-align: right;\">\n",
       "      <th></th>\n",
       "      <th>CRIM</th>\n",
       "      <th>ZN</th>\n",
       "      <th>INDUS</th>\n",
       "      <th>CHAS</th>\n",
       "      <th>NOX</th>\n",
       "      <th>RM</th>\n",
       "      <th>AGE</th>\n",
       "      <th>DIS</th>\n",
       "      <th>RAD</th>\n",
       "      <th>TAX</th>\n",
       "      <th>PTRATIO</th>\n",
       "      <th>B</th>\n",
       "      <th>LSTAT</th>\n",
       "    </tr>\n",
       "  </thead>\n",
       "  <tbody>\n",
       "    <tr>\n",
       "      <th>0</th>\n",
       "      <td>0.00632</td>\n",
       "      <td>18.0</td>\n",
       "      <td>2.31</td>\n",
       "      <td>0.0</td>\n",
       "      <td>0.538</td>\n",
       "      <td>6.575</td>\n",
       "      <td>65.2</td>\n",
       "      <td>4.0900</td>\n",
       "      <td>1.0</td>\n",
       "      <td>296.0</td>\n",
       "      <td>15.3</td>\n",
       "      <td>396.90</td>\n",
       "      <td>4.98</td>\n",
       "    </tr>\n",
       "    <tr>\n",
       "      <th>1</th>\n",
       "      <td>0.02731</td>\n",
       "      <td>0.0</td>\n",
       "      <td>7.07</td>\n",
       "      <td>0.0</td>\n",
       "      <td>0.469</td>\n",
       "      <td>6.421</td>\n",
       "      <td>78.9</td>\n",
       "      <td>4.9671</td>\n",
       "      <td>2.0</td>\n",
       "      <td>242.0</td>\n",
       "      <td>17.8</td>\n",
       "      <td>396.90</td>\n",
       "      <td>9.14</td>\n",
       "    </tr>\n",
       "    <tr>\n",
       "      <th>2</th>\n",
       "      <td>0.02729</td>\n",
       "      <td>0.0</td>\n",
       "      <td>7.07</td>\n",
       "      <td>0.0</td>\n",
       "      <td>0.469</td>\n",
       "      <td>7.185</td>\n",
       "      <td>61.1</td>\n",
       "      <td>4.9671</td>\n",
       "      <td>2.0</td>\n",
       "      <td>242.0</td>\n",
       "      <td>17.8</td>\n",
       "      <td>392.83</td>\n",
       "      <td>4.03</td>\n",
       "    </tr>\n",
       "    <tr>\n",
       "      <th>3</th>\n",
       "      <td>0.03237</td>\n",
       "      <td>0.0</td>\n",
       "      <td>2.18</td>\n",
       "      <td>0.0</td>\n",
       "      <td>0.458</td>\n",
       "      <td>6.998</td>\n",
       "      <td>45.8</td>\n",
       "      <td>6.0622</td>\n",
       "      <td>3.0</td>\n",
       "      <td>222.0</td>\n",
       "      <td>18.7</td>\n",
       "      <td>394.63</td>\n",
       "      <td>2.94</td>\n",
       "    </tr>\n",
       "    <tr>\n",
       "      <th>4</th>\n",
       "      <td>0.06905</td>\n",
       "      <td>0.0</td>\n",
       "      <td>2.18</td>\n",
       "      <td>0.0</td>\n",
       "      <td>0.458</td>\n",
       "      <td>7.147</td>\n",
       "      <td>54.2</td>\n",
       "      <td>6.0622</td>\n",
       "      <td>3.0</td>\n",
       "      <td>222.0</td>\n",
       "      <td>18.7</td>\n",
       "      <td>396.90</td>\n",
       "      <td>5.33</td>\n",
       "    </tr>\n",
       "  </tbody>\n",
       "</table>\n",
       "</div>"
      ],
      "text/plain": [
       "      CRIM    ZN  INDUS  CHAS    NOX     RM   AGE     DIS  RAD    TAX  \\\n",
       "0  0.00632  18.0   2.31   0.0  0.538  6.575  65.2  4.0900  1.0  296.0   \n",
       "1  0.02731   0.0   7.07   0.0  0.469  6.421  78.9  4.9671  2.0  242.0   \n",
       "2  0.02729   0.0   7.07   0.0  0.469  7.185  61.1  4.9671  2.0  242.0   \n",
       "3  0.03237   0.0   2.18   0.0  0.458  6.998  45.8  6.0622  3.0  222.0   \n",
       "4  0.06905   0.0   2.18   0.0  0.458  7.147  54.2  6.0622  3.0  222.0   \n",
       "\n",
       "   PTRATIO       B  LSTAT  \n",
       "0     15.3  396.90   4.98  \n",
       "1     17.8  396.90   9.14  \n",
       "2     17.8  392.83   4.03  \n",
       "3     18.7  394.63   2.94  \n",
       "4     18.7  396.90   5.33  "
      ]
     },
     "execution_count": 4,
     "metadata": {},
     "output_type": "execute_result"
    }
   ],
   "source": [
    "boston = load_boston()\n",
    "X = pd.DataFrame(data=boston[\"data\"], columns=boston[\"feature_names\"])\n",
    "y = boston[\"target\"]\n",
    "X.head()\n",
    "\n",
    "#print(boston[\"DESCR\"])"
   ]
  },
  {
   "cell_type": "markdown",
   "metadata": {},
   "source": [
    "При решении задания имейте в виду, что под критерием Джини подразумевается такая функция:\n",
    "\n",
    "$$Q(R) = -\\frac {|R_{\\ell}|}{|R|}H(R_\\ell) -\\frac {|R_r|}{|R|}H(R_r) ,$$\n",
    "\n",
    "где $R$ — множество объектов, попавших в вершину, $R_{\\ell}$ и $R_r$ — объекты, попавшие в левое и правое поддеревья,\n",
    "$H(R) = 1 - p_1^2 - p_0^2$, $p_1$, $p_0$ — доли объектов класса 1 и 0 соответственно.\n",
    "\n",
    "Для категориальных признаков применяется наивный алгоритм разбиения: мы пытаемся найти одно значение, разбиение по которому сильнее всего увеличит критерий информативности. Иными словами, объекты с конкретным значением признака отправляем в левое поддерево, остальные - в правое. \n",
    "\n",
    "В качестве подсказок реализации можете пользоваться кодом из бонусной части семинара по решающим деревьям (скачайте решённую версию ноутбука)."
   ]
  },
  {
   "cell_type": "code",
   "execution_count": 279,
   "metadata": {},
   "outputs": [],
   "source": [
    "def find_best_split(\n",
    "    feature_vector: Union[np.ndarray, pd.DataFrame], \n",
    "    target_vector: Union[np.ndarray, pd.Series],\n",
    "    task: str = \"classification\",\n",
    "    feature_type: str = \"real\"\n",
    ") -> Tuple[np.ndarray, np.ndarray, float, float]:\n",
    "    \"\"\"\n",
    "    Указания:\n",
    "    * Пороги, приводящие к попаданию в одно из поддеревьев пустого множества объектов, не рассматриваются.\n",
    "    * В качестве порогов, нужно брать среднее двух соседних (при сортировке) значений признака (?)\n",
    "    * Поведение функции в случае константного признака может быть любым.\n",
    "    * При одинаковых приростах Джини или дисперсии нужно выбирать минимальный сплит.\n",
    "    * За наличие в функции циклов балл будет снижен. Векторизуйте! :)\n",
    "\n",
    "    :param feature_vector: вещественнозначный вектор значений признака\n",
    "    :param target_vector: вектор классов объектов,  len(feature_vector) == len(target_vector)\n",
    "    :param task: либо `classification`, либо `regression`\n",
    "    :param feature_type: либо `real`, либо `categorical`\n",
    "    \n",
    "    :return thresholds: отсортированный по возрастанию вектор со всеми возможными порогами, по которым объекты можно\n",
    "     разделить на две различные подвыборки, или поддерева\n",
    "    :return ginis: вектор со значениями критерия Джини для каждого из порогов в thresholds len(ginis) == len(thresholds)\n",
    "    :return threshold_best: оптимальный порог (число)\n",
    "    :return gini_best: оптимальное значение критерия Джини (число)\n",
    "    \"\"\"\n",
    "     \n",
    "    # Регрессия только для числовых переменных, так что тут нет необходимости выделять по feature_type  \n",
    "    \n",
    "    if task == 'regression':\n",
    "        Q_array = []\n",
    "        thresholds = np.unique(feature_vector)\n",
    "        tmp = np.append([0], thresholds[0:-1])\n",
    "        thresholds += tmp\n",
    "        thresholds = np.true_divide(thresholds, 2)\n",
    "        for t in thresholds:\n",
    "            R_l_mask, R_r_mask = feature_vector <= t, feature_vector >= t\n",
    "            R_tl, R_tr = target_vector[R_l_mask], target_vector[R_r_mask] \n",
    "            if len(R_tl) == 0 or len(R_tr)  == 0:\n",
    "                thresholds = np.delete(thresholds, np.where(thresholds == t))\n",
    "            else:\n",
    "                q_error = -(len(R_tl) / len(target_vector)) * np.var(R_tl, axis=0) - (len(R_tr) / len(target_vector)) * np.var(R_tr, axis=0)\n",
    "                Q_array.append(q_error)\n",
    "        Q_array = np.nan_to_num(Q_array, nan=float(\"+inf\"))\n",
    "        threshold_best = thresholds[np.argmax(Q_array)]\n",
    "        variance_best = np.max(Q_array)\n",
    "        \n",
    "    # Здесь следует выделить по feature_type, тк. можем классификацию для обоих типов переменных производить \n",
    "   # Также тут будет алгоритм для бинарной классификации (в условии намекнули ;) \"p_1, p_0 — доли объектов класса 1 и 0 соответственно\")\n",
    "    elif task == 'classification':\n",
    "        Q_array = []\n",
    "        \n",
    "        if feature_type == 'real':\n",
    "            thresholds = np.unique(feature_vector)\n",
    "            tmp = np.append([0], thresholds[0:-1])\n",
    "            thresholds += tmp\n",
    "            thresholds = np.true_divide(thresholds, 2)\n",
    "            for t in thresholds:\n",
    "                R_l_mask, R_r_mask = feature_vector <= t, feature_vector >= t\n",
    "                R_tl, R_tr = target_vector[R_l_mask], target_vector[R_r_mask]\n",
    "                if len(R_tl) == 0 or len(R_tr)  == 0:\n",
    "                    thresholds = np.delete(thresholds, np.where(thresholds == t))\n",
    "                    continue\n",
    "                t_l0, t_l1 = R_tl[R_tl == 0], R_tl[R_tl == 1]\n",
    "                t_r0, t_r1 = R_tr[R_tr == 0], R_tr[R_tr == 1]\n",
    "                H_l = 1 - (t_l0.size / R_tl.size) **2 - (t_l1.size / R_tl.size) **2\n",
    "                H_r = 1 - (t_r0.size / R_tr.size) **2 - (t_r1.size / R_tr.size) **2\n",
    "                q_error = - (R_tl.size / target_vector.size) * H_l - (R_tr.size / target_vector.size) * H_r\n",
    "                Q_array = np.append(Q_array, q_error)   \n",
    "            Q_array = np.nan_to_num(Q_array, nan=float(\"+inf\"))\n",
    "            threshold_best = thresholds[np.argmax(Q_array)]\n",
    "            variance_best = np.max(Q_array) \n",
    "            \n",
    "        elif feature_type == 'categorical':\n",
    "            thresholds = np.unique(feature_vector)\n",
    "            Q_array = [], []\n",
    "            for t in thresholds:\n",
    "                R_l, R_r = feature_vector == t, feature_vector != t\n",
    "                R_tl, R_tr = target_vector[R_l], target_vector[R_r]\n",
    "                if len(R_tl) == 0 or len(R_tr)  == 0:\n",
    "                    thresholds = np.delete(thresholds, np.where(thresholds == t))\n",
    "                    continue\n",
    "                t_l0, t_l1 = R_tl[R_tl == 0], R_tl[R_tl == 1]\n",
    "                t_r0, t_r1 = R_tr[R_tr == 0], R_tr[R_tr == 1]\n",
    "                H_l = 1 - (t_l0.size / R_tl.size) **2 - (t_l1.size / R_tl.size) **2\n",
    "                H_r = 1 - (t_r0.size / R_tr.size) **2 - (t_r1.size / R_tr.size) **2    \n",
    "                q_error = - (R_tl.size / target_vector.size) * H_l - (R_tr.size / target_vector.size) * H_r\n",
    "                Q_array = np.append(Q_array, q_error)   \n",
    "            Q_array = np.nan_to_num(Q_array, nan=float(\"+inf\"))\n",
    "            threshold_best = thresholds[np.argmax(Q_array)]\n",
    "            variance_best = np.max(Q_array) \n",
    "                 \n",
    "    return thresholds, Q_array, threshold_best, variance_best      "
   ]
  },
  {
   "cell_type": "code",
   "execution_count": 280,
   "metadata": {},
   "outputs": [
    {
     "data": {
      "text/plain": [
       "6.68632"
      ]
     },
     "execution_count": 280,
     "metadata": {},
     "output_type": "execute_result"
    }
   ],
   "source": [
    "thresholds, variances, threshold_best, variance_best = find_best_split(\n",
    "    X[\"CRIM\"].to_numpy(), \n",
    "    y, \n",
    "    task=\"regression\",\n",
    "    feature_type=\"real\")\n",
    "threshold_best"
   ]
  },
  {
   "cell_type": "markdown",
   "metadata": {},
   "source": [
    "Выведите график зависимости значения критерия ошибки от порогового значения при разбиении вершины по признаку `CRIM`."
   ]
  },
  {
   "cell_type": "code",
   "execution_count": 281,
   "metadata": {},
   "outputs": [
    {
     "data": {
      "image/png": "[encoded data removed]",
      "text/plain": [
       "<Figure size 720x432 with 1 Axes>"
      ]
     },
     "metadata": {
      "needs_background": "light"
     },
     "output_type": "display_data"
    }
   ],
   "source": [
    "fig = plt.figure(figsize=(10, 6))\n",
    "plt.plot(thresholds, variances)\n",
    "plt.axvline(x=threshold_best, color='magenta')\n",
    "plt.title(\"CRIM\")\n",
    "plt.xlabel(\"thresholds\")\n",
    "plt.ylabel(\"Q error\")\n",
    "plt.show()"
   ]
  },
  {
   "cell_type": "markdown",
   "metadata": {},
   "source": [
    "### Задание 2.2 (1 балл)\n",
    "Загрузите таблицу [students.csv](https://drive.google.com/file/d/0B2zoFVYw1rN3a0d0Zm43TzQ4aUU/view?usp=sharing) (это немного преобразованный датасет [User Knowledge](https://archive.ics.uci.edu/ml/datasets/User+Knowledge+Modeling)). В ней признаки объекта записаны в первых пяти столбцах, а в последнем записана целевая переменная (класс: 0 или 1). Постройте на одном изображении пять кривых \"порог — значение критерия Джини\" для всех пяти признаков. Отдельно визуализируйте scatter-графики \"значение признака — класс\" для всех пяти признаков."
   ]
  },
  {
   "cell_type": "code",
   "execution_count": 185,
   "metadata": {},
   "outputs": [],
   "source": [
    "tab = pd.read_csv(\"students.csv\")\n",
    "tab['UNS'] = tab[' UNS']\n",
    "tab = tab.drop(columns=' UNS')"
   ]
  },
  {
   "cell_type": "code",
   "execution_count": 284,
   "metadata": {},
   "outputs": [],
   "source": [
    "thresholdsSTG, variancesSTG, threshold_bestSTG, variance_bestSTG = find_best_split(\n",
    "    tab[\"STG\"].astype(float).to_numpy(), \n",
    "    tab['UNS'].astype(int).to_numpy(), \n",
    "    task=\"classification\",\n",
    "    feature_type=\"real\")\n",
    "\n",
    "thresholdsSCG, variancesSCG, threshold_bestSCG, variance_bestSCG = find_best_split(\n",
    "    tab['SCG'].astype(float).to_numpy(), \n",
    "    tab['UNS'].astype(int).to_numpy(), \n",
    "    task=\"classification\",\n",
    "    feature_type=\"real\")\n",
    "\n",
    "thresholdsSTR, variancesSTR, threshold_bestSTR, variance_bestSTR = find_best_split(\n",
    "    tab['STR'].astype(float).to_numpy(), \n",
    "    tab['UNS'].astype(int).to_numpy(), \n",
    "    task=\"classification\",\n",
    "    feature_type=\"real\")\n",
    "\n",
    "thresholdsLPR, variancesLPR, threshold_bestLPR, variance_bestLPR = find_best_split(\n",
    "    tab['LPR'].astype(float).to_numpy(), \n",
    "    tab['UNS'].astype(int).to_numpy(), \n",
    "    task=\"classification\",\n",
    "    feature_type=\"real\")\n",
    "\n",
    "thresholdsPEG, variancesPEG, threshold_bestPEG, variance_bestPEG = find_best_split(\n",
    "    tab['PEG'].astype(float).to_numpy(), \n",
    "    tab['UNS'].astype(int).to_numpy(), \n",
    "    task=\"classification\",\n",
    "    feature_type=\"real\")"
   ]
  },
  {
   "cell_type": "code",
   "execution_count": 285,
   "metadata": {},
   "outputs": [
    {
     "data": {
      "image/png": "[encoded data removed]",
      "text/plain": [
       "<Figure size 720x432 with 1 Axes>"
      ]
     },
     "metadata": {
      "needs_background": "light"
     },
     "output_type": "display_data"
    }
   ],
   "source": [
    "fig = plt.figure(figsize=(10, 6))\n",
    "plt.plot(thresholdsSTG, variancesSTG, label='STG')\n",
    "plt.plot(thresholdsSCG, variancesSCG, label='SCG')\n",
    "plt.plot(thresholdsSTR, variancesSTR, label='STR')\n",
    "plt.plot(thresholdsLPR, variancesLPR, label='LPR')\n",
    "plt.plot(thresholdsPEG, variancesPEG, label='PEG')\n",
    "plt.legend(loc=\"center right\")\n",
    "plt.title(\"Students data\")\n",
    "plt.xlabel(\"thresholds\")\n",
    "plt.ylabel(\"Q error\")\n",
    "plt.show()"
   ]
  },
  {
   "cell_type": "code",
   "execution_count": 286,
   "metadata": {},
   "outputs": [
    {
     "data": {
      "image/png": "[encoded data removed]",
      "text/plain": [
       "<Figure size 1008x432 with 3 Axes>"
      ]
     },
     "metadata": {
      "needs_background": "light"
     },
     "output_type": "display_data"
    },
    {
     "data": {
      "image/png": "[encoded data removed]",
      "text/plain": [
       "<Figure size 1008x432 with 2 Axes>"
      ]
     },
     "metadata": {
      "needs_background": "light"
     },
     "output_type": "display_data"
    }
   ],
   "source": [
    "fig1, ax1 = plt.subplots(1, 3, figsize=(14, 6))\n",
    "groups = tab.groupby('UNS')    \n",
    "for name, group in groups:\n",
    "    ax1[0].scatter(group['STG'], group['UNS'], marker=\"o\", alpha=0.5, label=name)\n",
    "    ax1[1].scatter(group['SCG'], group['UNS'], marker=\"o\", alpha=0.5, label=name)\n",
    "    ax1[2].scatter(group['STR'], group['UNS'], marker=\"o\", alpha=0.5, label=name)\n",
    "    ax1[0].legend(loc='center right')\n",
    "    ax1[0].set_title('STG')\n",
    "    ax1[0].set_ylabel('Category')\n",
    "    ax1[1].legend(loc='center right')\n",
    "    ax1[1].set_title('SCG')\n",
    "    ax1[2].legend(loc='center right')\n",
    "    ax1[2].set_title('STR')\n",
    "    \n",
    "fig2, ax2 = plt.subplots(1, 2, figsize=(14, 6))\n",
    "for name, group in groups: \n",
    "    ax2[0].scatter(group['LPR'], group['UNS'], marker=\"o\", alpha=0.5, label=name)\n",
    "    ax2[1].scatter(group['PEG'], group['UNS'], marker=\"o\", alpha=0.5, label=name) \n",
    "    ax2[0].legend(loc='center right')\n",
    "    ax2[0].set_title('LPR')\n",
    "    ax2[0].set_ylabel('Category')\n",
    "    ax2[1].legend(loc='center right')\n",
    "    ax2[1].set_title('PEG')\n",
    "fig1.suptitle('Scatter plots for features split by classes')   \n",
    "plt.show()"
   ]
  },
  {
   "cell_type": "markdown",
   "metadata": {},
   "source": [
    "### Задание 2.4 (1 балл)\n",
    "\n",
    "Исходя из кривых значений критерия Джини, по какому признаку нужно производить деление выборки на два поддерева? Согласуется ли этот результат с визуальной оценкой scatter-графиков? Как бы охарактеризовали вид кривой для \"хороших\" признаков, по которым выборка делится почти идеально? Чем отличаются кривые для признаков, по которым деление практически невозможно?"
   ]
  },
  {
   "cell_type": "markdown",
   "metadata": {},
   "source": [
    "`Ответ:`\n",
    "\n",
    "Нужно по признаку PEG делить, потому что можно лучше всего разделить по порогу его значения, что согласуется с данными представленными на scatter plot. Несильно ошибаясь можно провести вертикальную прямую, разделяющую 2 класса.\n",
    "\n",
    "Для тех признаков, где выборка делится почти идеально, вертикальная прямая разделяет эти 2 класса ровно, ошибка минимальна, когда есть расстояние между классами (горизонтально если смотреть). Также отчетливо видно, где достигается максимум критерия информативности, для произведения деления и выбора оптимального порога.\n",
    "\n",
    "Для всех остальных признаков очень сложно отделить классы. Это видно по scatter plots, где классы почти невозможно отделить друг от друга, и по графику Q_error, где кажется, что нет максимума у критерия информативности. Деление производится сложно."
   ]
  },
  {
   "cell_type": "markdown",
   "metadata": {},
   "source": [
    "## Часть 3: бэггинг, случайный лес"
   ]
  },
  {
   "cell_type": "markdown",
   "metadata": {},
   "source": [
    "В данной части будем работать [с задачей предсказания диабета у пациента](https://www.kaggle.com/uciml/pima-indians-diabetes-database/data). Посмотрим на работу бэггинга над решающими деревьями и случайного леса, сравним их работу."
   ]
  },
  {
   "cell_type": "code",
   "execution_count": 25,
   "metadata": {},
   "outputs": [],
   "source": [
    "from sklearn.ensemble import BaggingClassifier, RandomForestClassifier\n",
    "from sklearn.metrics import accuracy_score, precision_score, recall_score, roc_auc_score\n",
    "from sklearn.model_selection import train_test_split\n",
    "from sklearn.tree import DecisionTreeClassifier"
   ]
  },
  {
   "cell_type": "code",
   "execution_count": 26,
   "metadata": {
    "scrolled": true
   },
   "outputs": [
    {
     "name": "stdout",
     "output_type": "stream",
     "text": [
      "Dataset shape: (768, 9)\n"
     ]
    },
    {
     "data": {
      "text/html": [
       "<div>\n",
       "<style scoped>\n",
       "    .dataframe tbody tr th:only-of-type {\n",
       "        vertical-align: middle;\n",
       "    }\n",
       "\n",
       "    .dataframe tbody tr th {\n",
       "        vertical-align: top;\n",
       "    }\n",
       "\n",
       "    .dataframe thead th {\n",
       "        text-align: right;\n",
       "    }\n",
       "</style>\n",
       "<table border=\"1\" class=\"dataframe\">\n",
       "  <thead>\n",
       "    <tr style=\"text-align: right;\">\n",
       "      <th></th>\n",
       "      <th>Pregnancies</th>\n",
       "      <th>Glucose</th>\n",
       "      <th>BloodPressure</th>\n",
       "      <th>SkinThickness</th>\n",
       "      <th>Insulin</th>\n",
       "      <th>BMI</th>\n",
       "      <th>DiabetesPedigreeFunction</th>\n",
       "      <th>Age</th>\n",
       "      <th>Outcome</th>\n",
       "    </tr>\n",
       "  </thead>\n",
       "  <tbody>\n",
       "    <tr>\n",
       "      <th>0</th>\n",
       "      <td>6</td>\n",
       "      <td>148</td>\n",
       "      <td>72</td>\n",
       "      <td>35</td>\n",
       "      <td>0</td>\n",
       "      <td>33.6</td>\n",
       "      <td>0.627</td>\n",
       "      <td>50</td>\n",
       "      <td>1</td>\n",
       "    </tr>\n",
       "    <tr>\n",
       "      <th>1</th>\n",
       "      <td>1</td>\n",
       "      <td>85</td>\n",
       "      <td>66</td>\n",
       "      <td>29</td>\n",
       "      <td>0</td>\n",
       "      <td>26.6</td>\n",
       "      <td>0.351</td>\n",
       "      <td>31</td>\n",
       "      <td>0</td>\n",
       "    </tr>\n",
       "    <tr>\n",
       "      <th>2</th>\n",
       "      <td>8</td>\n",
       "      <td>183</td>\n",
       "      <td>64</td>\n",
       "      <td>0</td>\n",
       "      <td>0</td>\n",
       "      <td>23.3</td>\n",
       "      <td>0.672</td>\n",
       "      <td>32</td>\n",
       "      <td>1</td>\n",
       "    </tr>\n",
       "    <tr>\n",
       "      <th>3</th>\n",
       "      <td>1</td>\n",
       "      <td>89</td>\n",
       "      <td>66</td>\n",
       "      <td>23</td>\n",
       "      <td>94</td>\n",
       "      <td>28.1</td>\n",
       "      <td>0.167</td>\n",
       "      <td>21</td>\n",
       "      <td>0</td>\n",
       "    </tr>\n",
       "    <tr>\n",
       "      <th>4</th>\n",
       "      <td>0</td>\n",
       "      <td>137</td>\n",
       "      <td>40</td>\n",
       "      <td>35</td>\n",
       "      <td>168</td>\n",
       "      <td>43.1</td>\n",
       "      <td>2.288</td>\n",
       "      <td>33</td>\n",
       "      <td>1</td>\n",
       "    </tr>\n",
       "  </tbody>\n",
       "</table>\n",
       "</div>"
      ],
      "text/plain": [
       "   Pregnancies  Glucose  BloodPressure  SkinThickness  Insulin   BMI  \\\n",
       "0            6      148             72             35        0  33.6   \n",
       "1            1       85             66             29        0  26.6   \n",
       "2            8      183             64              0        0  23.3   \n",
       "3            1       89             66             23       94  28.1   \n",
       "4            0      137             40             35      168  43.1   \n",
       "\n",
       "   DiabetesPedigreeFunction  Age  Outcome  \n",
       "0                     0.627   50        1  \n",
       "1                     0.351   31        0  \n",
       "2                     0.672   32        1  \n",
       "3                     0.167   21        0  \n",
       "4                     2.288   33        1  "
      ]
     },
     "execution_count": 26,
     "metadata": {},
     "output_type": "execute_result"
    }
   ],
   "source": [
    "data = pd.read_csv('diabetes.csv')\n",
    "print(f\"Dataset shape: {data.shape}\")\n",
    "data.head()"
   ]
  },
  {
   "cell_type": "markdown",
   "metadata": {},
   "source": [
    "Посмотрим на распределение целевой переменной"
   ]
  },
  {
   "cell_type": "code",
   "execution_count": 27,
   "metadata": {},
   "outputs": [
    {
     "data": {
      "image/png": "[encoded data removed]",
      "text/plain": [
       "<Figure size 432x288 with 1 Axes>"
      ]
     },
     "metadata": {
      "needs_background": "light"
     },
     "output_type": "display_data"
    }
   ],
   "source": [
    "data['Outcome'].hist()\n",
    "plt.show()"
   ]
  },
  {
   "cell_type": "markdown",
   "metadata": {},
   "source": [
    "Присутствует дисбаланс, так как в выборке больше тех, у кого нет диабета (значение 0)"
   ]
  },
  {
   "cell_type": "markdown",
   "metadata": {},
   "source": [
    "Разделите данные на признаки и целевую переменную. Разбейте датасет на тренировочную и тестовую части в отношении 70:30."
   ]
  },
  {
   "cell_type": "code",
   "execution_count": 28,
   "metadata": {},
   "outputs": [],
   "source": [
    "X = data.drop('Outcome', axis=1)\n",
    "y = data['Outcome']\n",
    "X_train, X_test, y_train, y_test = train_test_split(X, y, test_size=0.3, random_state=123)"
   ]
  },
  {
   "cell_type": "markdown",
   "metadata": {},
   "source": [
    "### Задание 3.1 (1 балл)\n",
    "\n",
    "Обучите [`BaggingClassifier`](https://scikit-learn.org/stable/modules/generated/sklearn.ensemble.BaggingClassifier.html) на 50 деревьях. Оцените качество классификации на тестовой выборке по метрикам `accuracy`, `precision` и `recall`, `auc_roc`."
   ]
  },
  {
   "cell_type": "code",
   "execution_count": 29,
   "metadata": {},
   "outputs": [
    {
     "name": "stdout",
     "output_type": "stream",
     "text": [
      "accuracy: 0.766\n",
      "precision: 0.698\n",
      "recall: 0.682\n",
      "auc_roc: 0.75\n"
     ]
    }
   ],
   "source": [
    "tree = DecisionTreeClassifier(random_state=1232)\n",
    "bg = BaggingClassifier(tree, n_estimators=50, random_state=100)\n",
    "bg.fit(X_train, y_train)\n",
    "bg_pred = bg.predict(X_test)\n",
    "print(f'accuracy: {np.round(accuracy_score(y_test, bg_pred), 3)}',\n",
    "      f'precision: {np.round(precision_score(y_test, bg_pred), 3)}',\n",
    "      f'recall: {np.round(recall_score(y_test, bg_pred), 3)}',\n",
    "      f'auc_roc: {np.round(roc_auc_score(y_test, bg_pred), 3)}',\n",
    "      sep='\\n'\n",
    "     )"
   ]
  },
  {
   "cell_type": "markdown",
   "metadata": {},
   "source": [
    "### Задание 3.2 (1 балл)\n",
    "\n",
    "Теперь обучите `Random Forest` с таким же количеством деревьев. Оцените качество классификации по тем же метрикам. Какая из двух построенных моделей показала себя лучше?"
   ]
  },
  {
   "cell_type": "code",
   "execution_count": 30,
   "metadata": {},
   "outputs": [
    {
     "name": "stdout",
     "output_type": "stream",
     "text": [
      "accuracy: 0.801\n",
      "precision: 0.75\n",
      "recall: 0.716\n",
      "auc_roc: 0.785\n"
     ]
    }
   ],
   "source": [
    "rf = RandomForestClassifier(n_estimators=50, random_state=122)\n",
    "rf.fit(X_train, y_train)\n",
    "rf_pred = rf.predict(X_test)\n",
    "print(f'accuracy: {np.round(accuracy_score(y_test, rf_pred), 3)}',\n",
    "      f'precision: {np.round(precision_score(y_test, rf_pred), 3)}',\n",
    "      f'recall: {np.round(recall_score(y_test, rf_pred), 3)}',\n",
    "      f'auc_roc: {np.round(roc_auc_score(y_test, rf_pred), 3)}',\n",
    "      sep='\\n'\n",
    "     )"
   ]
  },
  {
   "cell_type": "markdown",
   "metadata": {},
   "source": [
    "Random Forest Classifier оказался незначительно, но все же лучше, чем Bagging Classifier. Связано это с тем, что в случайном лесу деревья строятся также и на случайных признаках (среди которых выбирается наилучший предикат при жадном построении деревьев), тогда как бэггинг является средним по ансамблю одного и того же дерева просто на разных бутстрапированных выборках. Бэггинг склонен к переобучению, тогда как случайный лес не переобучается (поправка: с ростом числа деревьев).\n",
    "\n",
    "> Random forest does not overfit. You can run as many trees as you want. **Leo Breiman**"
   ]
  },
  {
   "cell_type": "markdown",
   "metadata": {},
   "source": [
    "### Задание 3.3 (1 балл)\n",
    "\n",
    "Для случайного леса проанализируйте значение AUC-ROC на этих же данных в зависимости от изменения параметров (можете сделать обычный перебор с обучением/тестированием в цикле):\n",
    "* `'n_estimators'` (можно перебрать около 10 значений из отрезка от 10 до 1500)\n",
    "* `'min_samples_leaf'` (сетку значений можете выбрать на ваше усмотрение)\n",
    "\n",
    "Постройте соответствующие графики зависимости AUC-ROC от этих параметров. Используйте heat map для визуализации. Какие выводы вы можете сделать?"
   ]
  },
  {
   "cell_type": "code",
   "execution_count": 76,
   "metadata": {},
   "outputs": [],
   "source": [
    "import seaborn as sns\n",
    "from sklearn.model_selection import GridSearchCV"
   ]
  },
  {
   "cell_type": "markdown",
   "metadata": {},
   "source": [
    "По сетке через GridSearch подберем лучшие значения для минимального количества объектов в листе (min_samples_leaf) и количества деревьев (n_estimators) "
   ]
  },
  {
   "cell_type": "code",
   "execution_count": 120,
   "metadata": {},
   "outputs": [
    {
     "data": {
      "text/plain": [
       "GridSearchCV(cv=5, estimator=RandomForestClassifier(random_state=27), n_jobs=4,\n",
       "             param_grid={'min_samples_leaf': range(1, 150, 10),\n",
       "                         'n_estimators': range(10, 1500, 100)},\n",
       "             scoring='roc_auc')"
      ]
     },
     "execution_count": 120,
     "metadata": {},
     "output_type": "execute_result"
    }
   ],
   "source": [
    "param_test1 = {\n",
    "    'n_estimators':range(10, 1500, 100),\n",
    "    'min_samples_leaf':range(1, 150, 10)\n",
    "}\n",
    "gsearch1 = GridSearchCV(estimator = RandomForestClassifier(random_state=27), \n",
    "                       param_grid = param_test1, scoring='roc_auc',n_jobs=4, cv=5)\n",
    "gsearch1.fit(X_train, y_train)"
   ]
  },
  {
   "cell_type": "code",
   "execution_count": 122,
   "metadata": {},
   "outputs": [
    {
     "data": {
      "text/plain": [
       "({'min_samples_leaf': 11, 'n_estimators': 310}, 0.8229242740392977)"
      ]
     },
     "execution_count": 122,
     "metadata": {},
     "output_type": "execute_result"
    }
   ],
   "source": [
    "gsearch1.best_params_, gsearch1.best_score_"
   ]
  },
  {
   "cell_type": "markdown",
   "metadata": {},
   "source": [
    "Таким образом, получаем, что оптимальными значениями для данных гиперпараметров будут:\n",
    "\n",
    "`min_samples_leaf = 11`\n",
    "\n",
    "`n_estimators = 310` \n",
    "\n",
    "При этом лучшее значение `AUC-ROC` составит 0.82."
   ]
  },
  {
   "cell_type": "markdown",
   "metadata": {},
   "source": [
    "Построим сводную таблицу, чтобы по ней вывести heatmap"
   ]
  },
  {
   "cell_type": "code",
   "execution_count": 147,
   "metadata": {},
   "outputs": [],
   "source": [
    "pvt = pd.pivot_table(pd.DataFrame(gsearch1.cv_results_), \n",
    "                     values='mean_test_score', columns='param_n_estimators', index='param_min_samples_leaf')"
   ]
  },
  {
   "cell_type": "code",
   "execution_count": 148,
   "metadata": {},
   "outputs": [
    {
     "data": {
      "text/html": [
       "<div>\n",
       "<style scoped>\n",
       "    .dataframe tbody tr th:only-of-type {\n",
       "        vertical-align: middle;\n",
       "    }\n",
       "\n",
       "    .dataframe tbody tr th {\n",
       "        vertical-align: top;\n",
       "    }\n",
       "\n",
       "    .dataframe thead th {\n",
       "        text-align: right;\n",
       "    }\n",
       "</style>\n",
       "<table border=\"1\" class=\"dataframe\">\n",
       "  <thead>\n",
       "    <tr style=\"text-align: right;\">\n",
       "      <th>param_n_estimators</th>\n",
       "      <th>10</th>\n",
       "      <th>110</th>\n",
       "      <th>210</th>\n",
       "      <th>310</th>\n",
       "      <th>410</th>\n",
       "      <th>510</th>\n",
       "      <th>610</th>\n",
       "      <th>710</th>\n",
       "      <th>810</th>\n",
       "      <th>910</th>\n",
       "      <th>1010</th>\n",
       "      <th>1110</th>\n",
       "      <th>1210</th>\n",
       "      <th>1310</th>\n",
       "      <th>1410</th>\n",
       "    </tr>\n",
       "    <tr>\n",
       "      <th>param_min_samples_leaf</th>\n",
       "      <th></th>\n",
       "      <th></th>\n",
       "      <th></th>\n",
       "      <th></th>\n",
       "      <th></th>\n",
       "      <th></th>\n",
       "      <th></th>\n",
       "      <th></th>\n",
       "      <th></th>\n",
       "      <th></th>\n",
       "      <th></th>\n",
       "      <th></th>\n",
       "      <th></th>\n",
       "      <th></th>\n",
       "      <th></th>\n",
       "    </tr>\n",
       "  </thead>\n",
       "  <tbody>\n",
       "    <tr>\n",
       "      <th>1</th>\n",
       "      <td>0.750019</td>\n",
       "      <td>0.807012</td>\n",
       "      <td>0.810835</td>\n",
       "      <td>0.812313</td>\n",
       "      <td>0.815087</td>\n",
       "      <td>0.813761</td>\n",
       "      <td>0.812486</td>\n",
       "      <td>0.813891</td>\n",
       "      <td>0.814593</td>\n",
       "      <td>0.813344</td>\n",
       "      <td>0.812955</td>\n",
       "      <td>0.813306</td>\n",
       "      <td>0.812682</td>\n",
       "      <td>0.812953</td>\n",
       "      <td>0.813030</td>\n",
       "    </tr>\n",
       "    <tr>\n",
       "      <th>11</th>\n",
       "      <td>0.793576</td>\n",
       "      <td>0.816679</td>\n",
       "      <td>0.819952</td>\n",
       "      <td>0.822924</td>\n",
       "      <td>0.821696</td>\n",
       "      <td>0.821696</td>\n",
       "      <td>0.820207</td>\n",
       "      <td>0.819825</td>\n",
       "      <td>0.821064</td>\n",
       "      <td>0.821140</td>\n",
       "      <td>0.820744</td>\n",
       "      <td>0.821367</td>\n",
       "      <td>0.820750</td>\n",
       "      <td>0.821222</td>\n",
       "      <td>0.821606</td>\n",
       "    </tr>\n",
       "    <tr>\n",
       "      <th>21</th>\n",
       "      <td>0.787774</td>\n",
       "      <td>0.813431</td>\n",
       "      <td>0.814223</td>\n",
       "      <td>0.814767</td>\n",
       "      <td>0.814923</td>\n",
       "      <td>0.814221</td>\n",
       "      <td>0.814057</td>\n",
       "      <td>0.814380</td>\n",
       "      <td>0.814377</td>\n",
       "      <td>0.814380</td>\n",
       "      <td>0.814534</td>\n",
       "      <td>0.814925</td>\n",
       "      <td>0.815158</td>\n",
       "      <td>0.815163</td>\n",
       "      <td>0.815002</td>\n",
       "    </tr>\n",
       "    <tr>\n",
       "      <th>31</th>\n",
       "      <td>0.785490</td>\n",
       "      <td>0.808867</td>\n",
       "      <td>0.810900</td>\n",
       "      <td>0.812363</td>\n",
       "      <td>0.810975</td>\n",
       "      <td>0.809026</td>\n",
       "      <td>0.809644</td>\n",
       "      <td>0.808947</td>\n",
       "      <td>0.810108</td>\n",
       "      <td>0.810576</td>\n",
       "      <td>0.811353</td>\n",
       "      <td>0.811665</td>\n",
       "      <td>0.810965</td>\n",
       "      <td>0.811984</td>\n",
       "      <td>0.811747</td>\n",
       "    </tr>\n",
       "    <tr>\n",
       "      <th>41</th>\n",
       "      <td>0.778463</td>\n",
       "      <td>0.807252</td>\n",
       "      <td>0.807338</td>\n",
       "      <td>0.810050</td>\n",
       "      <td>0.809585</td>\n",
       "      <td>0.807481</td>\n",
       "      <td>0.807018</td>\n",
       "      <td>0.806389</td>\n",
       "      <td>0.808947</td>\n",
       "      <td>0.808562</td>\n",
       "      <td>0.808716</td>\n",
       "      <td>0.809107</td>\n",
       "      <td>0.810121</td>\n",
       "      <td>0.810125</td>\n",
       "      <td>0.810592</td>\n",
       "    </tr>\n",
       "    <tr>\n",
       "      <th>51</th>\n",
       "      <td>0.757157</td>\n",
       "      <td>0.806320</td>\n",
       "      <td>0.806180</td>\n",
       "      <td>0.807729</td>\n",
       "      <td>0.807654</td>\n",
       "      <td>0.805156</td>\n",
       "      <td>0.805236</td>\n",
       "      <td>0.805784</td>\n",
       "      <td>0.806164</td>\n",
       "      <td>0.805775</td>\n",
       "      <td>0.806400</td>\n",
       "      <td>0.807488</td>\n",
       "      <td>0.807878</td>\n",
       "      <td>0.808193</td>\n",
       "      <td>0.808503</td>\n",
       "    </tr>\n",
       "    <tr>\n",
       "      <th>61</th>\n",
       "      <td>0.756566</td>\n",
       "      <td>0.804404</td>\n",
       "      <td>0.804710</td>\n",
       "      <td>0.803766</td>\n",
       "      <td>0.803224</td>\n",
       "      <td>0.801363</td>\n",
       "      <td>0.801824</td>\n",
       "      <td>0.802520</td>\n",
       "      <td>0.802750</td>\n",
       "      <td>0.802667</td>\n",
       "      <td>0.802590</td>\n",
       "      <td>0.803218</td>\n",
       "      <td>0.803379</td>\n",
       "      <td>0.803540</td>\n",
       "      <td>0.804081</td>\n",
       "    </tr>\n",
       "    <tr>\n",
       "      <th>71</th>\n",
       "      <td>0.748769</td>\n",
       "      <td>0.799557</td>\n",
       "      <td>0.800553</td>\n",
       "      <td>0.803102</td>\n",
       "      <td>0.801157</td>\n",
       "      <td>0.799357</td>\n",
       "      <td>0.798816</td>\n",
       "      <td>0.798656</td>\n",
       "      <td>0.799744</td>\n",
       "      <td>0.801225</td>\n",
       "      <td>0.800678</td>\n",
       "      <td>0.800448</td>\n",
       "      <td>0.800414</td>\n",
       "      <td>0.801117</td>\n",
       "      <td>0.801578</td>\n",
       "    </tr>\n",
       "    <tr>\n",
       "      <th>81</th>\n",
       "      <td>0.751408</td>\n",
       "      <td>0.797724</td>\n",
       "      <td>0.799037</td>\n",
       "      <td>0.801079</td>\n",
       "      <td>0.799451</td>\n",
       "      <td>0.798508</td>\n",
       "      <td>0.797268</td>\n",
       "      <td>0.797659</td>\n",
       "      <td>0.797341</td>\n",
       "      <td>0.799138</td>\n",
       "      <td>0.800067</td>\n",
       "      <td>0.799684</td>\n",
       "      <td>0.800070</td>\n",
       "      <td>0.799686</td>\n",
       "      <td>0.800468</td>\n",
       "    </tr>\n",
       "    <tr>\n",
       "      <th>91</th>\n",
       "      <td>0.736841</td>\n",
       "      <td>0.791817</td>\n",
       "      <td>0.790483</td>\n",
       "      <td>0.793103</td>\n",
       "      <td>0.793733</td>\n",
       "      <td>0.794893</td>\n",
       "      <td>0.793965</td>\n",
       "      <td>0.793343</td>\n",
       "      <td>0.794109</td>\n",
       "      <td>0.794888</td>\n",
       "      <td>0.794728</td>\n",
       "      <td>0.795592</td>\n",
       "      <td>0.796526</td>\n",
       "      <td>0.796689</td>\n",
       "      <td>0.795988</td>\n",
       "    </tr>\n",
       "    <tr>\n",
       "      <th>101</th>\n",
       "      <td>0.739250</td>\n",
       "      <td>0.787192</td>\n",
       "      <td>0.786067</td>\n",
       "      <td>0.787624</td>\n",
       "      <td>0.788142</td>\n",
       "      <td>0.787986</td>\n",
       "      <td>0.788690</td>\n",
       "      <td>0.789041</td>\n",
       "      <td>0.789184</td>\n",
       "      <td>0.789956</td>\n",
       "      <td>0.789024</td>\n",
       "      <td>0.790429</td>\n",
       "      <td>0.791358</td>\n",
       "      <td>0.790742</td>\n",
       "      <td>0.790589</td>\n",
       "    </tr>\n",
       "    <tr>\n",
       "      <th>111</th>\n",
       "      <td>0.736798</td>\n",
       "      <td>0.781397</td>\n",
       "      <td>0.782235</td>\n",
       "      <td>0.786923</td>\n",
       "      <td>0.786068</td>\n",
       "      <td>0.787067</td>\n",
       "      <td>0.786525</td>\n",
       "      <td>0.785512</td>\n",
       "      <td>0.786137</td>\n",
       "      <td>0.787069</td>\n",
       "      <td>0.788085</td>\n",
       "      <td>0.787613</td>\n",
       "      <td>0.788236</td>\n",
       "      <td>0.787693</td>\n",
       "      <td>0.787530</td>\n",
       "    </tr>\n",
       "    <tr>\n",
       "      <th>121</th>\n",
       "      <td>0.749156</td>\n",
       "      <td>0.780446</td>\n",
       "      <td>0.781060</td>\n",
       "      <td>0.782588</td>\n",
       "      <td>0.784615</td>\n",
       "      <td>0.784955</td>\n",
       "      <td>0.784024</td>\n",
       "      <td>0.783639</td>\n",
       "      <td>0.782930</td>\n",
       "      <td>0.784059</td>\n",
       "      <td>0.784684</td>\n",
       "      <td>0.785274</td>\n",
       "      <td>0.785198</td>\n",
       "      <td>0.786100</td>\n",
       "      <td>0.784935</td>\n",
       "    </tr>\n",
       "    <tr>\n",
       "      <th>131</th>\n",
       "      <td>0.742869</td>\n",
       "      <td>0.771466</td>\n",
       "      <td>0.771357</td>\n",
       "      <td>0.769447</td>\n",
       "      <td>0.770950</td>\n",
       "      <td>0.772039</td>\n",
       "      <td>0.773055</td>\n",
       "      <td>0.772670</td>\n",
       "      <td>0.771171</td>\n",
       "      <td>0.771404</td>\n",
       "      <td>0.772020</td>\n",
       "      <td>0.771796</td>\n",
       "      <td>0.772034</td>\n",
       "      <td>0.773055</td>\n",
       "      <td>0.773368</td>\n",
       "    </tr>\n",
       "    <tr>\n",
       "      <th>141</th>\n",
       "      <td>0.574589</td>\n",
       "      <td>0.717581</td>\n",
       "      <td>0.742320</td>\n",
       "      <td>0.744847</td>\n",
       "      <td>0.740286</td>\n",
       "      <td>0.744247</td>\n",
       "      <td>0.742269</td>\n",
       "      <td>0.752356</td>\n",
       "      <td>0.752947</td>\n",
       "      <td>0.752333</td>\n",
       "      <td>0.752823</td>\n",
       "      <td>0.752159</td>\n",
       "      <td>0.752287</td>\n",
       "      <td>0.751877</td>\n",
       "      <td>0.753219</td>\n",
       "    </tr>\n",
       "  </tbody>\n",
       "</table>\n",
       "</div>"
      ],
      "text/plain": [
       "param_n_estimators          10        110       210       310       410   \\\n",
       "param_min_samples_leaf                                                     \n",
       "1                       0.750019  0.807012  0.810835  0.812313  0.815087   \n",
       "11                      0.793576  0.816679  0.819952  0.822924  0.821696   \n",
       "21                      0.787774  0.813431  0.814223  0.814767  0.814923   \n",
       "31                      0.785490  0.808867  0.810900  0.812363  0.810975   \n",
       "41                      0.778463  0.807252  0.807338  0.810050  0.809585   \n",
       "51                      0.757157  0.806320  0.806180  0.807729  0.807654   \n",
       "61                      0.756566  0.804404  0.804710  0.803766  0.803224   \n",
       "71                      0.748769  0.799557  0.800553  0.803102  0.801157   \n",
       "81                      0.751408  0.797724  0.799037  0.801079  0.799451   \n",
       "91                      0.736841  0.791817  0.790483  0.793103  0.793733   \n",
       "101                     0.739250  0.787192  0.786067  0.787624  0.788142   \n",
       "111                     0.736798  0.781397  0.782235  0.786923  0.786068   \n",
       "121                     0.749156  0.780446  0.781060  0.782588  0.784615   \n",
       "131                     0.742869  0.771466  0.771357  0.769447  0.770950   \n",
       "141                     0.574589  0.717581  0.742320  0.744847  0.740286   \n",
       "\n",
       "param_n_estimators          510       610       710       810       910   \\\n",
       "param_min_samples_leaf                                                     \n",
       "1                       0.813761  0.812486  0.813891  0.814593  0.813344   \n",
       "11                      0.821696  0.820207  0.819825  0.821064  0.821140   \n",
       "21                      0.814221  0.814057  0.814380  0.814377  0.814380   \n",
       "31                      0.809026  0.809644  0.808947  0.810108  0.810576   \n",
       "41                      0.807481  0.807018  0.806389  0.808947  0.808562   \n",
       "51                      0.805156  0.805236  0.805784  0.806164  0.805775   \n",
       "61                      0.801363  0.801824  0.802520  0.802750  0.802667   \n",
       "71                      0.799357  0.798816  0.798656  0.799744  0.801225   \n",
       "81                      0.798508  0.797268  0.797659  0.797341  0.799138   \n",
       "91                      0.794893  0.793965  0.793343  0.794109  0.794888   \n",
       "101                     0.787986  0.788690  0.789041  0.789184  0.789956   \n",
       "111                     0.787067  0.786525  0.785512  0.786137  0.787069   \n",
       "121                     0.784955  0.784024  0.783639  0.782930  0.784059   \n",
       "131                     0.772039  0.773055  0.772670  0.771171  0.771404   \n",
       "141                     0.744247  0.742269  0.752356  0.752947  0.752333   \n",
       "\n",
       "param_n_estimators          1010      1110      1210      1310      1410  \n",
       "param_min_samples_leaf                                                    \n",
       "1                       0.812955  0.813306  0.812682  0.812953  0.813030  \n",
       "11                      0.820744  0.821367  0.820750  0.821222  0.821606  \n",
       "21                      0.814534  0.814925  0.815158  0.815163  0.815002  \n",
       "31                      0.811353  0.811665  0.810965  0.811984  0.811747  \n",
       "41                      0.808716  0.809107  0.810121  0.810125  0.810592  \n",
       "51                      0.806400  0.807488  0.807878  0.808193  0.808503  \n",
       "61                      0.802590  0.803218  0.803379  0.803540  0.804081  \n",
       "71                      0.800678  0.800448  0.800414  0.801117  0.801578  \n",
       "81                      0.800067  0.799684  0.800070  0.799686  0.800468  \n",
       "91                      0.794728  0.795592  0.796526  0.796689  0.795988  \n",
       "101                     0.789024  0.790429  0.791358  0.790742  0.790589  \n",
       "111                     0.788085  0.787613  0.788236  0.787693  0.787530  \n",
       "121                     0.784684  0.785274  0.785198  0.786100  0.784935  \n",
       "131                     0.772020  0.771796  0.772034  0.773055  0.773368  \n",
       "141                     0.752823  0.752159  0.752287  0.751877  0.753219  "
      ]
     },
     "execution_count": 148,
     "metadata": {},
     "output_type": "execute_result"
    }
   ],
   "source": [
    "pvt"
   ]
  },
  {
   "cell_type": "code",
   "execution_count": 162,
   "metadata": {},
   "outputs": [
    {
     "data": {
      "image/png": "[encoded data removed]",
      "text/plain": [
       "<Figure size 864x720 with 2 Axes>"
      ]
     },
     "metadata": {
      "needs_background": "light"
     },
     "output_type": "display_data"
    }
   ],
   "source": [
    "fig = plt.figure(figsize=(12, 10))\n",
    "sns.heatmap(pvt, annot=True)\n",
    "plt.title('Heatmap for random forest parameters', fontsize=16)\n",
    "plt.xlabel('n_estimators', fontsize=14)\n",
    "plt.ylabel('min_samples_leaf', fontsize=14);"
   ]
  },
  {
   "cell_type": "markdown",
   "metadata": {},
   "source": [
    "Heatmap также позволяет увидеть что наилучшими значениями для данных гиперпараметров будут `min_samples_leaf = 11` и `n_estimators = 310`.\n",
    "\n",
    "Можно заметить, что при фиксировании минимального числа объектов в листе на 11, с увеличением числа деревьев выше 100 происходит незначительное увеличение качества, максимальное значение ROC-AUC достигает при 310 деревьях, далее с ростом числа деревьев качество совсем незначительно снижается. \n",
    "\n",
    "Если же зафиксировать количество деревьев на 310, можно заметить что с увеличением минимального количества объектов в листе качетсво падает, что связано с переобучением."
   ]
  },
  {
   "cell_type": "markdown",
   "metadata": {},
   "source": [
    "### Задание 3.4 (1 балл)\n",
    "\n",
    "Для лучшей модели случайного леса посчитайте важность признаков и постройте bar plot. Какой признак оказался самым важным для определения диабета?"
   ]
  },
  {
   "cell_type": "code",
   "execution_count": 166,
   "metadata": {},
   "outputs": [],
   "source": [
    "rand_forest = RandomForestClassifier(n_estimators=310, min_samples_leaf=11, random_state=122)\n",
    "rand_forest.fit(X_train, y_train)\n",
    "rand_forest_pred = rand_forest.predict(X_test)"
   ]
  },
  {
   "cell_type": "code",
   "execution_count": 195,
   "metadata": {},
   "outputs": [],
   "source": [
    "df = pd.DataFrame({'Importance level': rand_forest.feature_importances_}, index = X.columns)"
   ]
  },
  {
   "cell_type": "code",
   "execution_count": 194,
   "metadata": {},
   "outputs": [
    {
     "data": {
      "image/png": "[encoded data removed]",
      "text/plain": [
       "<Figure size 1008x432 with 1 Axes>"
      ]
     },
     "metadata": {
      "needs_background": "light"
     },
     "output_type": "display_data"
    }
   ],
   "source": [
    "df.sort_values('Importance level',ascending=True).plot.barh(color='navy',figsize=(14, 6),\n",
    "                                                            edgecolor='b', title='Feature Importance');"
   ]
  },
  {
   "cell_type": "markdown",
   "metadata": {},
   "source": [
    "Самым важным признаком в определении диабета оказался признак Glucose, что вполне логично. Вторым по важности является BMI, третьим Age."
   ]
  }
 ],
 "metadata": {
  "kernelspec": {
   "display_name": "Python 3",
   "language": "python",
   "name": "python3"
  },
  "language_info": {
   "codemirror_mode": {
    "name": "ipython",
    "version": 3
   },
   "file_extension": ".py",
   "mimetype": "text/x-python",
   "name": "python",
   "nbconvert_exporter": "python",
   "pygments_lexer": "ipython3",
   "version": "3.8.3"
  }
 },
 "nbformat": 4,
 "nbformat_minor": 4
}
